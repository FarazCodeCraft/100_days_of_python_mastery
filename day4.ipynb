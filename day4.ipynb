{
  "cells": [
    {
      "cell_type": "markdown",
      "metadata": {},
      "source": [
        "# Day4\n",
        "**First line of code in python**\n",
        "Usually when a person start programming then first program is that person write is print hello world to output.\n",
        "\n",
        "Different languages have different way to write this but python has the most easiest syntax.\n",
        "\n",
        "In python we just wirte `print(\"hello world\")` and it will print hello world in output. How it will, we discuss later as we go advance."
      ]
    }
  ],
  "metadata": {
    "language_info": {
      "name": "python"
    }
  },
  "nbformat": 4,
  "nbformat_minor": 2
}
