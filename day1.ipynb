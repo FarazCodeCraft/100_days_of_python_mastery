{
  "cells": [
    {
      "cell_type": "markdown",
      "metadata": {},
      "source": [
        "# Day1\n",
        "\n",
        "**Programming**a way to communicate with computer\n",
        "\n",
        "**Programming Language**a language in which we communicate with computer\n",
        "\n",
        "**Python** is a high level, dynamcally typed, platform independent, interpreted versatile and general purpose language that supports functional, procedural and object orientated programming which is created by **GV Russon** in 1991 and named it due to monty python show.\n",
        "\n",
        "\n"
      ]
    }
  ],
  "metadata": {
    "kernelspec": {
      "display_name": "Python 3",
      "language": "python",
      "name": "python3"
    },
    "language_info": {
      "name": "python",
      "version": "3.13.3"
    }
  },
  "nbformat": 4,
  "nbformat_minor": 2
}
