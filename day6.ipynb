{
  "cells": [
    {
      "cell_type": "markdown",
      "metadata": {},
      "source": [
        "# Day6\n",
        "\n",
        "### Variables in Python\n",
        "\n",
        "A **variable** in Python is a symbolic name that refers to an object or value stored in memory. Variables are created by assigning a value using the `=` operator. Python is dynamically typed, so you do not need to declare the type of a variable explicitly.\n",
        "\n",
        "**Example:**\n",
        "```python\n",
        "x = 10\n",
        "name = \"Alice\"\n",
        "```\n",
        "\n",
        "### Data Types in Python\n",
        "\n",
        "Python supports several built-in data types, including:\n",
        "\n",
        "- **int**: Integer numbers (e.g., `5`, `-3`)\n",
        "- **float**: Floating-point numbers (e.g., `3.14`, `-0.001`)\n",
        "- **str**: Strings, or sequences of characters (e.g., `\"hello\"`)\n",
        "- **bool**: Boolean values (`True` or `False`)\n",
        "- **list**: Ordered, mutable collections (e.g., `[1, 2, 3]`)\n",
        "- **tuple**: Ordered, immutable collections (e.g., `(1, 2, 3)`)\n",
        "- **dict**: Key-value pairs (e.g., `{\"a\": 1, \"b\": 2}`)\n",
        "- **set**: Unordered collections of unique elements (e.g., `{1, 2, 3}`)\n",
        "\n",
        "Variables can store values of any data type, and their type can change during execution. Use the `type()` function to check the type of a variable."
      ]
    }
  ],
  "metadata": {
    "language_info": {
      "name": "python"
    }
  },
  "nbformat": 4,
  "nbformat_minor": 2
}
