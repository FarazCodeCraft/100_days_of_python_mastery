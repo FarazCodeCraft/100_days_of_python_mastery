{
  "cells": [
    {
      "cell_type": "markdown",
      "metadata": {},
      "source": [
        "# Day8 \n",
        "Harry bhai give us an very basic exercise of building calculator using just previous topics\n",
        "🤔"
      ]
    }
  ],
  "metadata": {
    "language_info": {
      "name": "python"
    }
  },
  "nbformat": 4,
  "nbformat_minor": 2
}
