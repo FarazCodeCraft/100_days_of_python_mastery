{
  "cells": [
    {
      "cell_type": "markdown",
      "metadata": {},
      "source": [
        "# Day10\n",
        "**input() in python**\n",
        "\n",
        "\n",
        ">```python\n",
        "># Theory on input() function in Python\n",
        ">\n",
        ">\"\"\"\n",
        ">The input() function in Python is used to take user input from the standard input (usually the keyboard).\n",
        ">When input() is called, the program execution halts until the user enters some data and presses Enter.\n",
        ">\n",
        ">By default, input() returns the entered data as a string, regardless of what the user types.\n",
        ">\n",
        ">Syntax:\n",
        " >   input([prompt])\n",
        ">\n",
        ">- prompt (optional): A string, which is displayed as a message to the user before taking input.\n",
        ">\n",
        ">Examples:\n",
        ">\"\"\"\n",
        ">\n",
        "># Example 1: Basic usage\n",
        ">name = input(\"Enter your name: \")\n",
        ">print(\"Hello,\", name)\n",
        ">\n",
        "># Example 2: Taking integer input (type conversion required)\n",
        ">age = input(\"Enter your age: \")  # Returns a string\n",
        ">age = int(age)  # Convert to integer\n",
        ">print(\"You are\", age, \"years old.\")\n",
        ">\n",
        "># Example 3: Default behaviour (returns string)\n",
        ">data = input(\"Type anything: \")\n",
        ">print(\"Type of data:\", type(data))  # Output: <class 'str'>\n",
        ">```"
      ]
    },
    {
      "cell_type": "code",
      "execution_count": null,
      "metadata": {},
      "outputs": [],
      "source": []
    }
  ],
  "metadata": {
    "language_info": {
      "name": "python"
    }
  },
  "nbformat": 4,
  "nbformat_minor": 2
}
