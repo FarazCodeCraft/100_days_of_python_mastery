{
  "cells": [
    {
      "cell_type": "markdown",
      "metadata": {},
      "source": [
        "# Day9\n",
        "\n",
        "Today Harry bhai give us sloution of the exercise that he gave us in last video which is:\n",
        "\n",
        "\n",
        "a = 1\n",
        "\n",
        "b = 3 \n",
        "\n",
        "print(a + b)\n",
        "\n",
        "\n",
        "I know that is so simple (harry bhai says and laugh😂)"
      ]
    },
    {
      "cell_type": "markdown",
      "metadata": {},
      "source": [
        "# "
      ]
    },
    {
      "cell_type": "markdown",
      "metadata": {},
      "source": []
    }
  ],
  "metadata": {
    "language_info": {
      "name": "python"
    }
  },
  "nbformat": 4,
  "nbformat_minor": 2
}
