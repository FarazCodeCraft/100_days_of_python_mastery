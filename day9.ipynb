{
  "cells": [
    {
      "cell_type": "markdown",
      "metadata": {},
      "source": [
        "# "
      ]
    },
    {
      "cell_type": "markdown",
      "metadata": {},
      "source": [
        "# Day9\n",
        "**we can chk data type of variable or an any object by using `type()` built-in function in python.**\n",
        "\n",
        "# **Type casting**\n",
        " python give us lot of built in functions to convert one data type into another.\n",
        "\n",
        "There are two types of casting:\n",
        "1. Implicit casting (python does automatically)\n",
        "2. Explicit casting (user have to manually do)\n"
      ]
    }
  ],
  "metadata": {
    "language_info": {
      "name": "python"
    }
  },
  "nbformat": 4,
  "nbformat_minor": 2
}
