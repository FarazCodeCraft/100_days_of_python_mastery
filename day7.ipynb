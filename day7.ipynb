{
  "cells": [
    {
      "cell_type": "markdown",
      "metadata": {},
      "source": [
        "# Day7\n",
        "\n",
        "\n",
        "### Floor, Modulus, and Exponentiation Operators\n",
        "\n",
        "- **Floor Division (`//`)**  \n",
        "    Returns the largest integer less than or equal to the division result.  \n",
        "    Example:  \n",
        "    ```python\n",
        "    7 // 3  # Output: 2\n",
        "    ```\n",
        "\n",
        "- **Modulus (`%`)**  \n",
        "    Returns the remainder after division.  \n",
        "    Example:  \n",
        "    ```python\n",
        "    7 % 3  # Output: 1\n",
        "    ```\n",
        "\n",
        "- **Exponentiation (`**`)**  \n",
        "    Raises the left operand to the power of the right operand.  \n",
        "    Example:  \n",
        "    ```python\n",
        "    2 ** 3  # Output: 8\n",
        "    ```"
      ]
    }
  ],
  "metadata": {
    "language_info": {
      "name": "python"
    }
  },
  "nbformat": 4,
  "nbformat_minor": 2
}
