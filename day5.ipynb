{
  "cells": [
    {
      "cell_type": "markdown",
      "metadata": {},
      "source": [
        "# Day5\n",
        "\n",
        "**COMMENTS** a code in file that is nont executed. For this, we use # in python to make comments.\n",
        "\n",
        ">```python\n",
        ">print(\"This will print in output\")\n",
        "># print(\"This will not bcz we have use #  so it becomes a comment\")\n",
        ">\n",
        ">#For multi line comments, we use \"\"\" so it will not be executed in output\n",
        ">\"\"\"\n",
        ">Hi \n",
        ">this is me faraz raja\n",
        ">\"\"\"\n",
        ">```\n",
        "\n",
        "**Escape Sequence** An escape sequence is a special characters combination starting with / and used to represent things like newline, tab, quotes etc.\n",
        "\n",
        "| E.S | use|\n",
        "| - | - |\n",
        "| /n | new line|\n",
        "| /t | tab space |\n",
        "|//| for / |\n",
        "| /* | for * |\n",
        "| / '\" | for ' and \" |\n",
        "| /b | backspace (delete on character) |\n",
        "| /a | alert sound |\n"
      ]
    }
  ],
  "metadata": {
    "language_info": {
      "name": "python"
    }
  },
  "nbformat": 4,
  "nbformat_minor": 2
}
