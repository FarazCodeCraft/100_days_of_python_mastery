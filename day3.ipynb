{
  "cells": [
    {
      "cell_type": "markdown",
      "metadata": {},
      "source": [
        "# Day3\n",
        "**Module - Package - Libarary - Framework**\n",
        "|Terms | Role\\Purpose | Example|\n",
        "| - | - | - | \n",
        "| Module | A single .py file for code reusability| os.py |\n",
        "| Package | A folder of related module with __init__.py | numpy |\n",
        "| Library | A collection of modules\\packages for specific task. | Panda |\n",
        "| Framework | Rules to build application using package\\library etc. | django |\n",
        " \n",
        "- Modules are of two types **built-in** and **user defined** \n",
        "- Packages are of three types **builtin** , **user defined** and **third party packages**\n",
        "- Libraries and Frameworks are mosty third party created by developers and company\n",
        "\n",
        "Note: All of these module, pac, lib and fram are used after installing or importing them into our file.\n"
      ]
    },
    {
      "cell_type": "markdown",
      "metadata": {},
      "source": []
    }
  ],
  "metadata": {
    "language_info": {
      "name": "python"
    }
  },
  "nbformat": 4,
  "nbformat_minor": 2
}
